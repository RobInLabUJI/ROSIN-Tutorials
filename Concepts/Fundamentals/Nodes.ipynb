{
 "cells": [
  {
   "cell_type": "markdown",
   "metadata": {},
   "source": [
    "## Understanding ROS Nodes\n",
    "\n",
    "This tutorial introduces ROS graph concepts and discusses the use of `roscore`, `rosnode`, and `rosrun` commandline tools.\n",
    "\n",
    "Source: [ROS Wiki](http://wiki.ros.org/ROS/Tutorials/UnderstandingNodes)"
   ]
  },
  {
   "cell_type": "markdown",
   "metadata": {},
   "source": [
    "### Quick Overview of Graph Concepts\n",
    "* Nodes: A node is an executable that uses ROS to communicate with other nodes.\n",
    "* Messages: ROS data type used when subscribing or publishing to a topic.\n",
    "* Topics: Nodes can publish messages to a topic as well as subscribe to a topic to receive messages.\n",
    "* Master: Name service for ROS (i.e. helps nodes find each other)\n",
    "* rosout: ROS equivalent of stdout/stderr\n",
    "* roscore: Master + rosout + parameter server (parameter server will be introduced later)"
   ]
  },
  {
   "cell_type": "markdown",
   "metadata": {},
   "source": [
    "### Nodes\n",
    "A node really isn't much more than an executable file within a ROS package. ROS nodes use a ROS client library to communicate with other nodes. Nodes can publish or subscribe to a Topic. Nodes can also provide or use a Service."
   ]
  },
  {
   "cell_type": "markdown",
   "metadata": {},
   "source": [
    "### Client Libraries\n",
    "ROS client libraries allow nodes written in different programming languages to communicate:\n",
    "* rospy = python client library\n",
    "* roscpp = c++ client library"
   ]
  },
  {
   "cell_type": "markdown",
   "metadata": {},
   "source": [
    "### roscore\n",
    "\n",
    "`roscore` is the first thing you should run when using ROS. \n",
    "\n",
    "Go to the [roscore notebook](roscore.ipynb) tab at the top right of the workspace for running it."
   ]
  },
  {
   "cell_type": "markdown",
   "metadata": {},
   "source": [
    "### Using rosnode\n",
    "`rosnode` displays information about the ROS nodes that are currently running. The `rosnode list` command lists these active nodes:"
   ]
  },
  {
   "cell_type": "code",
   "execution_count": null,
   "metadata": {},
   "outputs": [],
   "source": [
    "rosnode list"
   ]
  },
  {
   "cell_type": "markdown",
   "metadata": {},
   "source": [
    "This showed us that there is only one node running: `rosout`. This is always running as it collects and logs nodes' debugging output.\n",
    "\n",
    "The `rosnode info` command returns information about a specific node."
   ]
  },
  {
   "cell_type": "code",
   "execution_count": null,
   "metadata": {},
   "outputs": [],
   "source": [
    "rosnode info rosout"
   ]
  },
  {
   "cell_type": "markdown",
   "metadata": {},
   "source": [
    "This gave us some more information about `rosout`, such as the fact that it publishes `/rosout_agg`.\n",
    "\n",
    "Now, let's see some more nodes. For this, we're going to use `rosrun` to bring up another node."
   ]
  },
  {
   "cell_type": "markdown",
   "metadata": {},
   "source": [
    "### Using rosrun\n",
    "`rosrun` allows you to use the package name to directly run a node within a package (without having to know the package path).\n",
    "\n",
    "Usage:\n",
    "```\n",
    "$ rosrun [package_name] [node_name]\n",
    "```\n",
    "So now we can run the `turtlesim_node` in the `turtlesim` package.\n",
    "\n",
    "Go to the [turtlesim notebook](turtlesim.ipynb) tab at the right bottom of the workspace.\n",
    "\n",
    "Now, if we go back and use `rosnode list`:"
   ]
  },
  {
   "cell_type": "code",
   "execution_count": null,
   "metadata": {},
   "outputs": [],
   "source": [
    "rosnode list"
   ]
  },
  {
   "cell_type": "markdown",
   "metadata": {},
   "source": [
    "You will see something similar to:\n",
    "````\n",
    "/rosout\n",
    "/turtlesim\n",
    "/turtlesim_display\n",
    "```\n",
    "We see our new `/turtlesim` node, and a `turtlesim_display` node, which is the graphical output notebook.\n",
    "\n",
    "Let's use another `rosnode` command, `ping`, to test that it's up:"
   ]
  },
  {
   "cell_type": "code",
   "execution_count": null,
   "metadata": {},
   "outputs": [],
   "source": [
    "rosnode ping -c 5 turtlesim"
   ]
  },
  {
   "cell_type": "markdown",
   "metadata": {},
   "source": [
    "### Review\n",
    "What was covered:\n",
    "* `roscore` = ros+core : master (provides name service for ROS) + rosout (stdout/stderr) + parameter server (parameter server will be introduced later)\n",
    "* `rosnode` = ros+node : ROS tool to get information about a node.\n",
    "* `rosrun` = ros+run : runs a node from a given package.\n",
    "\n",
    "Now that you understand how ROS nodes work, let's look at how [ROS topics](Topics.ipynb) work. Please keep the `roscore` and `turtlesim` notebooks open and running."
   ]
  }
 ],
 "metadata": {
  "kernelspec": {
   "display_name": "Bash",
   "language": "bash",
   "name": "bash"
  },
  "language_info": {
   "codemirror_mode": "shell",
   "file_extension": ".sh",
   "mimetype": "text/x-sh",
   "name": "bash"
  }
 },
 "nbformat": 4,
 "nbformat_minor": 2
}
