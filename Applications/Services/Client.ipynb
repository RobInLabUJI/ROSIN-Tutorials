{
 "cells": [
  {
   "cell_type": "markdown",
   "metadata": {},
   "source": [
    "## Writing the Client Node"
   ]
  },
  {
   "cell_type": "code",
   "execution_count": null,
   "metadata": {},
   "outputs": [],
   "source": [
    "import rospy\n",
    "from rospy_tutorials.srv import AddTwoInts, AddTwoIntsRequest"
   ]
  },
  {
   "cell_type": "markdown",
   "metadata": {},
   "source": [
    "The client code for calling services is also simple. We first call: "
   ]
  },
  {
   "cell_type": "code",
   "execution_count": null,
   "metadata": {},
   "outputs": [],
   "source": [
    "rospy.init_node('add_two_ints_client')\n",
    "rospy.wait_for_service('add_two_ints')"
   ]
  },
  {
   "cell_type": "markdown",
   "metadata": {},
   "source": [
    "This is a convenience method that blocks until the service named `add_two_ints` is available. Next we create a handle for calling the service: "
   ]
  },
  {
   "cell_type": "code",
   "execution_count": null,
   "metadata": {},
   "outputs": [],
   "source": [
    "add_two_ints = rospy.ServiceProxy('add_two_ints', AddTwoInts)"
   ]
  },
  {
   "cell_type": "markdown",
   "metadata": {},
   "source": [
    "We can use this handle just like a normal function and call it: "
   ]
  },
  {
   "cell_type": "code",
   "execution_count": null,
   "metadata": {},
   "outputs": [],
   "source": [
    "try:\n",
    "    print( add_two_ints(5, 30) )\n",
    "except rospy.ServiceException, e:\n",
    "    print( \"Service call failed: %s\" % e )"
   ]
  },
  {
   "cell_type": "markdown",
   "metadata": {},
   "source": [
    "Because we've declared the type of the service to be `AddTwoInts`, it does the work of generating the `AddTwoIntsRequest` object for you (you're free to pass in your own instead with the code below). The return value is an `AddTwoIntsResponse` object. If the call fails, a `rospy.ServiceException` may be thrown, so you should setup the appropriate `try/except` block. "
   ]
  },
  {
   "cell_type": "code",
   "execution_count": null,
   "metadata": {},
   "outputs": [],
   "source": [
    "try:\n",
    "    req = AddTwoIntsRequest(5, 30)\n",
    "    print( add_two_ints(req) )\n",
    "except rospy.ServiceException, e:\n",
    "    print( \"Service call failed: %s\" % e )"
   ]
  },
  {
   "cell_type": "markdown",
   "metadata": {},
   "source": [
    "Please feel free to call the service again in either of the two ways, with different numbers."
   ]
  },
  {
   "cell_type": "markdown",
   "metadata": {},
   "source": [
    "When you are done, for going back to the main page, please close the other tabs and click on the following link:\n",
    "[Go back to the main page](../../README.ipynb)"
   ]
  }
 ],
 "metadata": {
  "kernelspec": {
   "display_name": "Python 2",
   "language": "python",
   "name": "python2"
  },
  "language_info": {
   "codemirror_mode": {
    "name": "ipython",
    "version": 2
   },
   "file_extension": ".py",
   "mimetype": "text/x-python",
   "name": "python",
   "nbconvert_exporter": "python",
   "pygments_lexer": "ipython2",
   "version": "2.7.15rc1"
  }
 },
 "nbformat": 4,
 "nbformat_minor": 2
}
