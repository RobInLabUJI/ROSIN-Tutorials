{
 "cells": [
  {
   "cell_type": "markdown",
   "metadata": {},
   "source": [
    "## Writing a Simple Action Server using the Execute Callback\n",
    "This tutorial covers using the simple_action_server library to create a Fibonacci action server in Python. This example action server generates a Fibonacci sequence, the goal is the order of the sequence, the feedback is the sequence as it is computed, and the result is the final sequence.\n",
    "\n",
    "If the order of the sequence is greater than 100, the action is aborted by the server.\n",
    "\n",
    "In addition, the action can be cancelled by the client at any time during the execution."
   ]
  },
  {
   "cell_type": "code",
   "execution_count": null,
   "metadata": {},
   "outputs": [],
   "source": [
    "import rospy\n",
    "from actionlib import SimpleActionServer\n",
    "from actionlib_tutorials.msg import FibonacciAction, \\\n",
    "    FibonacciFeedback, FibonacciResult"
   ]
  },
  {
   "cell_type": "markdown",
   "metadata": {},
   "source": [
    "Here we import the `SimpleActionServer` class from the `actionlib` library, and the  classes for the messages. The action specification generates such messages for sending goals, receiving feedbacks, etc..."
   ]
  },
  {
   "cell_type": "code",
   "execution_count": null,
   "metadata": {},
   "outputs": [],
   "source": [
    "feedback = FibonacciFeedback()\n",
    "result = FibonacciResult()"
   ]
  },
  {
   "cell_type": "markdown",
   "metadata": {},
   "source": [
    "These are the objects for storing the feedback and result data."
   ]
  },
  {
   "cell_type": "code",
   "execution_count": null,
   "metadata": {},
   "outputs": [],
   "source": [
    "def execute_cb(goal):\n",
    "    r = rospy.Rate(1)\n",
    "    success = True\n",
    "    feedback.sequence = [0, 1]\n",
    "    if goal.order > 100:\n",
    "        result.sequence = feedback.sequence\n",
    "        print('Aborted')\n",
    "        action_server.set_aborted(result, \"Sequence aborted due to excessive order\")\n",
    "        return\n",
    "    \n",
    "    print('Executing, creating fibonacci sequence of order %i with seeds %i, %i' % \n",
    "                  (goal.order, feedback.sequence[0], feedback.sequence[1]))\n",
    "    for i in range(1, goal.order):\n",
    "            if not action_server.is_preempt_requested():\n",
    "                feedback.sequence.append(feedback.sequence[i] + feedback.sequence[i-1])\n",
    "                action_server.publish_feedback(feedback)\n",
    "                r.sleep()\n",
    "\n",
    "    if not action_server.is_preempt_requested():\n",
    "        result.sequence = feedback.sequence\n",
    "        print('Succeeded')\n",
    "        action_server.set_succeeded(result, \"Sequence completed successfully\")"
   ]
  },
  {
   "cell_type": "markdown",
   "metadata": {},
   "source": [
    "This is the execute callback function that we'll run everytime a new goal is received.\n",
    "\n",
    "If the action is not preempted, the Fibonacci sequence is put into the feedback variable and then published on the feedback channel provided by the action server. Then, the action continues looping and publishing feedback.\n",
    "\n",
    "Once the action has finished computing the Fibonacci sequence, the action server notifies the action client that the goal is complete by calling `set_succeeded`."
   ]
  },
  {
   "cell_type": "code",
   "execution_count": null,
   "metadata": {},
   "outputs": [],
   "source": [
    "def preempt_cb():\n",
    "    result.sequence = feedback.sequence\n",
    "    print('Preempted')\n",
    "    action_server.set_preempted(result, \"Sequence preempted\")\n",
    "    return"
   ]
  },
  {
   "cell_type": "markdown",
   "metadata": {},
   "source": [
    "An important component of an action server is the ability to allow an action client to request that the goal under execution be canceled. When a client requests that the current goal be preempted, the action server should cancel the goal, perform any necessary cleanup, and call the `set_preempted` function, which signals that the action has been preempted by user request. Here, we execute this callback when a preempt request is received."
   ]
  },
  {
   "cell_type": "code",
   "execution_count": null,
   "metadata": {},
   "outputs": [],
   "source": [
    "rospy.init_node('fibonacci_server')"
   ]
  },
  {
   "cell_type": "markdown",
   "metadata": {},
   "source": [
    "The server node is initialized."
   ]
  },
  {
   "cell_type": "code",
   "execution_count": null,
   "metadata": {},
   "outputs": [],
   "source": [
    "action_server = SimpleActionServer('fibonacci', FibonacciAction, \n",
    "                    execute_cb = execute_cb, auto_start = False)"
   ]
  },
  {
   "cell_type": "markdown",
   "metadata": {},
   "source": [
    "Here, the `SimpleActionServer` is created, we pass it a name, the action type, and the execute callback. Since we've specified an execute callback in this example, a thread will be spun for us which allows us to take long running actions in a callback received when a new goal comes in.\n",
    "\n",
    "Note you should always set `auto_start` to `False` explicitly."
   ]
  },
  {
   "cell_type": "code",
   "execution_count": null,
   "metadata": {},
   "outputs": [],
   "source": [
    "action_server.register_preempt_callback(preempt_cb)"
   ]
  },
  {
   "cell_type": "markdown",
   "metadata": {},
   "source": [
    "The preempt callback function is registered."
   ]
  },
  {
   "cell_type": "code",
   "execution_count": null,
   "metadata": {},
   "outputs": [],
   "source": [
    "action_server.start()\n",
    "rospy.spin()"
   ]
  },
  {
   "cell_type": "markdown",
   "metadata": {},
   "source": [
    "Finally, we start the action server and spin the node."
   ]
  },
  {
   "cell_type": "markdown",
   "metadata": {},
   "source": [
    "Please move now to the right tab of the workspace for [Writing a Simple Action Client](Client.ipynb)."
   ]
  }
 ],
 "metadata": {
  "kernelspec": {
   "display_name": "Python 2",
   "language": "python",
   "name": "python2"
  },
  "language_info": {
   "codemirror_mode": {
    "name": "ipython",
    "version": 2
   },
   "file_extension": ".py",
   "mimetype": "text/x-python",
   "name": "python",
   "nbconvert_exporter": "python",
   "pygments_lexer": "ipython2",
   "version": "2.7.15rc1"
  }
 },
 "nbformat": 4,
 "nbformat_minor": 2
}
