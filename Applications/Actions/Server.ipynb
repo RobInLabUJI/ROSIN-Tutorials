{
 "cells": [
  {
   "cell_type": "markdown",
   "metadata": {},
   "source": [
    "## Writing a Simple Action Server using the Execute Callback\n",
    "This tutorial covers using the simple_action_server library to create a Fibonacci action server in Python. This example action server generates a Fibonacci sequence, the goal is the order of the sequence, the feedback is the sequence as it is computed, and the result is the final sequence."
   ]
  },
  {
   "cell_type": "code",
   "execution_count": null,
   "metadata": {},
   "outputs": [],
   "source": [
    "import rospy\n",
    "import actionlib\n",
    "import actionlib_tutorials.msg"
   ]
  },
  {
   "cell_type": "code",
   "execution_count": null,
   "metadata": {},
   "outputs": [],
   "source": [
    "action_name = 'fibonacci'\n",
    "feedback = actionlib_tutorials.msg.FibonacciFeedback()\n",
    "result = actionlib_tutorials.msg.FibonacciResult()"
   ]
  },
  {
   "cell_type": "code",
   "execution_count": null,
   "metadata": {},
   "outputs": [],
   "source": [
    "def execute_cb(goal):\n",
    "    r = rospy.Rate(1)\n",
    "    success = True\n",
    "    feedback.sequence = []\n",
    "    feedback.sequence.append(0)\n",
    "    feedback.sequence.append(1)\n",
    "    rospy.loginfo('%s: Executing, creating fibonacci sequence of order %i with seeds %i, %i' % \n",
    "                  (action_name, goal.order, feedback.sequence[0], feedback.sequence[1]))\n",
    "    for i in range(1, goal.order):\n",
    "            if action_server.is_preempt_requested():\n",
    "                rospy.loginfo('%s: Preempted' % self._action_name)\n",
    "                action_server.set_preempted()\n",
    "                success = False\n",
    "                break\n",
    "            feedback.sequence.append(feedback.sequence[i] + feedback.sequence[i-1])\n",
    "            action_server.publish_feedback(feedback)\n",
    "            r.sleep()          \n",
    "    if success:\n",
    "            result.sequence = feedback.sequence\n",
    "            rospy.loginfo('%s: Succeeded' % action_name)\n",
    "            action_server.set_succeeded(result)"
   ]
  },
  {
   "cell_type": "code",
   "execution_count": null,
   "metadata": {},
   "outputs": [],
   "source": [
    "action_server = actionlib.SimpleActionServer(action_name, actionlib_tutorials.msg.FibonacciAction, \n",
    "                                  execute_cb = execute_cb, auto_start = False)"
   ]
  },
  {
   "cell_type": "code",
   "execution_count": null,
   "metadata": {},
   "outputs": [],
   "source": [
    "rospy.init_node('fibonacci')\n",
    "action_server.start()\n",
    "rospy.spin()"
   ]
  },
  {
   "cell_type": "markdown",
   "metadata": {},
   "source": [
    "[Writing a Simple Action Client](Client.ipynb)."
   ]
  }
 ],
 "metadata": {
  "kernelspec": {
   "display_name": "Python 2",
   "language": "python",
   "name": "python2"
  },
  "language_info": {
   "codemirror_mode": {
    "name": "ipython",
    "version": 2
   },
   "file_extension": ".py",
   "mimetype": "text/x-python",
   "name": "python",
   "nbconvert_exporter": "python",
   "pygments_lexer": "ipython2",
   "version": "2.7.15rc1"
  }
 },
 "nbformat": 4,
 "nbformat_minor": 2
}
