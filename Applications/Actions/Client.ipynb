{
 "cells": [
  {
   "cell_type": "markdown",
   "metadata": {},
   "source": [
    "## Writing a Simple Action Client\n",
    "This tutorial covers using the `action_client` library to create a Fibonacci simple action client in Python."
   ]
  },
  {
   "cell_type": "code",
   "execution_count": null,
   "metadata": {},
   "outputs": [],
   "source": [
    "import rospy\n",
    "import time\n",
    "from __future__ import print_function\n",
    "from actionlib import SimpleActionClient\n",
    "from actionlib_tutorials.msg import FibonacciAction, FibonacciGoal"
   ]
  },
  {
   "cell_type": "code",
   "execution_count": null,
   "metadata": {},
   "outputs": [],
   "source": [
    "rospy.init_node('fibonacci_client_py')"
   ]
  },
  {
   "cell_type": "code",
   "execution_count": null,
   "metadata": {},
   "outputs": [],
   "source": [
    "client = SimpleActionClient('fibonacci', FibonacciAction)\n",
    "client.wait_for_server()"
   ]
  },
  {
   "cell_type": "code",
   "execution_count": null,
   "metadata": {},
   "outputs": [],
   "source": [
    "goal = FibonacciGoal(order=5)\n",
    "client.send_goal(goal)"
   ]
  },
  {
   "cell_type": "code",
   "execution_count": null,
   "metadata": {},
   "outputs": [],
   "source": [
    "client.wait_for_result()\n",
    "result = client.get_result()\n",
    "print('[Result]    State: %d' % client.get_state())\n",
    "print('[Result]   Status: %s' % client.get_goal_status_text())\n",
    "print('[Result] Sequence:', result.sequence)"
   ]
  },
  {
   "cell_type": "markdown",
   "metadata": {},
   "source": [
    "## Processing feedback"
   ]
  },
  {
   "cell_type": "code",
   "execution_count": null,
   "metadata": {},
   "outputs": [],
   "source": [
    "def feedback_cb(feedback):\n",
    "    print(\"[Feedback] Sequence:\", feedback.sequence)"
   ]
  },
  {
   "cell_type": "code",
   "execution_count": null,
   "metadata": {},
   "outputs": [],
   "source": [
    "goal = FibonacciGoal(order=5)\n",
    "client.send_goal(goal, feedback_cb=feedback_cb)"
   ]
  },
  {
   "cell_type": "code",
   "execution_count": null,
   "metadata": {},
   "outputs": [],
   "source": [
    "client.wait_for_result()\n",
    "result = client.get_result()\n",
    "print('[Result]    State: %d' % client.get_state())\n",
    "print('[Result]   Status: %s' % client.get_goal_status_text())\n",
    "print('[Result] Sequence:', result.sequence)"
   ]
  },
  {
   "cell_type": "markdown",
   "metadata": {},
   "source": [
    "## Cancelling a request"
   ]
  },
  {
   "cell_type": "code",
   "execution_count": null,
   "metadata": {},
   "outputs": [],
   "source": [
    "goal = FibonacciGoal(order=5)\n",
    "client.send_goal(goal)\n",
    "time.sleep(1.5)\n",
    "client.cancel_goal()"
   ]
  },
  {
   "cell_type": "code",
   "execution_count": null,
   "metadata": {},
   "outputs": [],
   "source": [
    "client.wait_for_result()\n",
    "result = client.get_result()\n",
    "print('[Result]    State: %d' % client.get_state())\n",
    "print('[Result]   Status: %s' % client.get_goal_status_text())\n",
    "print('[Result] Sequence:', result.sequence)"
   ]
  },
  {
   "cell_type": "markdown",
   "metadata": {},
   "source": [
    "## Preempting a previous goal\n",
    "\n",
    "The `SimpleActionServer` implements a single goal policy: accepting a new goal implies successful preemption of any old goal and the status of the old goal will be changed automatically to reflect this."
   ]
  },
  {
   "cell_type": "code",
   "execution_count": null,
   "metadata": {},
   "outputs": [],
   "source": [
    "goal = FibonacciGoal(order=5)\n",
    "client.send_goal(goal)\n",
    "time.sleep(1.5)\n",
    "new_goal = FibonacciGoal(order=8)\n",
    "client.send_goal(new_goal)"
   ]
  },
  {
   "cell_type": "code",
   "execution_count": null,
   "metadata": {},
   "outputs": [],
   "source": [
    "client.wait_for_result()\n",
    "result = client.get_result()\n",
    "print('[Result]    State: %d' % client.get_state())\n",
    "print('[Result]   Status: %s' % client.get_goal_status_text())\n",
    "print('[Result] Sequence:', result.sequence)"
   ]
  },
  {
   "cell_type": "markdown",
   "metadata": {},
   "source": [
    "## Action aborted by server"
   ]
  },
  {
   "cell_type": "code",
   "execution_count": null,
   "metadata": {},
   "outputs": [],
   "source": [
    "goal = FibonacciGoal(order=105)\n",
    "client.send_goal(goal)"
   ]
  },
  {
   "cell_type": "code",
   "execution_count": null,
   "metadata": {},
   "outputs": [],
   "source": [
    "client.wait_for_result()\n",
    "result = client.get_result()\n",
    "print('[Result]    State: %d' % client.get_state())\n",
    "print('[Result]   Status: %s' % client.get_goal_status_text())\n",
    "print('[Result] Sequence:', result.sequence)"
   ]
  },
  {
   "cell_type": "markdown",
   "metadata": {},
   "source": [
    "For going back to the main page, please close the other tabs and click on the following link:\n",
    "[Go back to the main page](../../README.ipynb)"
   ]
  }
 ],
 "metadata": {
  "kernelspec": {
   "display_name": "Python 2",
   "language": "python",
   "name": "python2"
  },
  "language_info": {
   "codemirror_mode": {
    "name": "ipython",
    "version": 2
   },
   "file_extension": ".py",
   "mimetype": "text/x-python",
   "name": "python",
   "nbconvert_exporter": "python",
   "pygments_lexer": "ipython2",
   "version": "2.7.15rc1"
  }
 },
 "nbformat": 4,
 "nbformat_minor": 2
}
