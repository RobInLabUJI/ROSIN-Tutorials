{
 "cells": [
  {
   "cell_type": "markdown",
   "metadata": {},
   "source": [
    "## Writing a Simple Action Client\n",
    "This tutorial covers using the `action_client` library to create a Fibonacci simple action client in Python."
   ]
  },
  {
   "cell_type": "code",
   "execution_count": null,
   "metadata": {},
   "outputs": [],
   "source": [
    "import rospy\n",
    "import time\n",
    "from __future__ import print_function"
   ]
  },
  {
   "cell_type": "code",
   "execution_count": null,
   "metadata": {},
   "outputs": [],
   "source": [
    "from actionlib import SimpleActionClient\n",
    "from actionlib_tutorials.msg import FibonacciAction, FibonacciGoal"
   ]
  },
  {
   "cell_type": "markdown",
   "metadata": {},
   "source": [
    "The action specification generates several messages for sending goals, receiving feedback, etc... This line imports the generated messages."
   ]
  },
  {
   "cell_type": "code",
   "execution_count": null,
   "metadata": {},
   "outputs": [],
   "source": [
    "rospy.init_node('fibonacci_client')"
   ]
  },
  {
   "cell_type": "markdown",
   "metadata": {},
   "source": [
    "We create the client node."
   ]
  },
  {
   "cell_type": "code",
   "execution_count": null,
   "metadata": {},
   "outputs": [],
   "source": [
    "client = SimpleActionClient('fibonacci', FibonacciAction)"
   ]
  },
  {
   "cell_type": "markdown",
   "metadata": {},
   "source": [
    "The action client and server communicate over a set of topics, described in [the actionlib protocol](http://wiki.ros.org/actionlib/DetailedDescription). The action name describes the namespace containing these topics, and the action specification message describes what messages should be passed along these topics."
   ]
  },
  {
   "cell_type": "code",
   "execution_count": null,
   "metadata": {},
   "outputs": [],
   "source": [
    "client.wait_for_server()"
   ]
  },
  {
   "cell_type": "markdown",
   "metadata": {},
   "source": [
    "Sending goals before the action server comes up would be useless. This line waits until we are connected to the action server."
   ]
  },
  {
   "cell_type": "code",
   "execution_count": null,
   "metadata": {},
   "outputs": [],
   "source": [
    "goal = FibonacciGoal(order=5)\n",
    "client.send_goal(goal)"
   ]
  },
  {
   "cell_type": "markdown",
   "metadata": {},
   "source": [
    "Creates a goal and sends it to the action server."
   ]
  },
  {
   "cell_type": "code",
   "execution_count": null,
   "metadata": {},
   "outputs": [],
   "source": [
    "client.wait_for_result()\n",
    "result = client.get_result()\n",
    "print('[Result]    State: %d' % client.get_state())\n",
    "print('[Result]   Status: %s' % client.get_goal_status_text())\n",
    "print('[Result] Sequence:', result.sequence)"
   ]
  },
  {
   "cell_type": "markdown",
   "metadata": {},
   "source": [
    "The action server will process the goal and eventually terminate. We want the result from the termination, but we wait until the server has finished with the goal."
   ]
  },
  {
   "cell_type": "markdown",
   "metadata": {},
   "source": [
    "## Processing feedback"
   ]
  },
  {
   "cell_type": "markdown",
   "metadata": {},
   "source": [
    "We define a callback that will be executed when a feedback message is received. The callback just print the contents of the feedback:"
   ]
  },
  {
   "cell_type": "code",
   "execution_count": null,
   "metadata": {},
   "outputs": [],
   "source": [
    "def feedback_cb(feedback):\n",
    "    print(\"[Feedback] Sequence:\", feedback.sequence)"
   ]
  },
  {
   "cell_type": "markdown",
   "metadata": {},
   "source": [
    "Now let's send a goal."
   ]
  },
  {
   "cell_type": "code",
   "execution_count": null,
   "metadata": {},
   "outputs": [],
   "source": [
    "goal = FibonacciGoal(order=5)\n",
    "client.send_goal(goal, feedback_cb=feedback_cb)"
   ]
  },
  {
   "cell_type": "markdown",
   "metadata": {},
   "source": [
    "While waiting, we receive one feedback update per second."
   ]
  },
  {
   "cell_type": "code",
   "execution_count": null,
   "metadata": {},
   "outputs": [],
   "source": [
    "client.wait_for_result()\n",
    "result = client.get_result()\n",
    "print('[Result]    State: %d' % client.get_state())\n",
    "print('[Result]   Status: %s' % client.get_goal_status_text())\n",
    "print('[Result] Sequence:', result.sequence)"
   ]
  },
  {
   "cell_type": "markdown",
   "metadata": {},
   "source": [
    "We can now receive the successful result."
   ]
  },
  {
   "cell_type": "markdown",
   "metadata": {},
   "source": [
    "## Cancelling a request\n",
    "\n",
    "Now let's try preempting a goal. These lines will send a goal, cause the client to sleep briefly, then request that the server preempt the goal:"
   ]
  },
  {
   "cell_type": "code",
   "execution_count": null,
   "metadata": {},
   "outputs": [],
   "source": [
    "goal = FibonacciGoal(order=5)\n",
    "client.send_goal(goal)\n",
    "time.sleep(1.5)\n",
    "client.cancel_goal()"
   ]
  },
  {
   "cell_type": "markdown",
   "metadata": {},
   "source": [
    "The client can still get the partial result of the task."
   ]
  },
  {
   "cell_type": "code",
   "execution_count": null,
   "metadata": {},
   "outputs": [],
   "source": [
    "client.wait_for_result()\n",
    "result = client.get_result()\n",
    "print('[Result]    State: %d' % client.get_state())\n",
    "print('[Result]   Status: %s' % client.get_goal_status_text())\n",
    "print('[Result] Sequence:', result.sequence)"
   ]
  },
  {
   "cell_type": "markdown",
   "metadata": {},
   "source": [
    "## Preempting a previous goal\n",
    "\n",
    "The `SimpleActionServer` implements a single goal policy: accepting a new goal implies successful preemption of any old goal."
   ]
  },
  {
   "cell_type": "code",
   "execution_count": null,
   "metadata": {},
   "outputs": [],
   "source": [
    "goal = FibonacciGoal(order=5)\n",
    "client.send_goal(goal)\n",
    "time.sleep(1.5)\n",
    "new_goal = FibonacciGoal(order=8)\n",
    "client.send_goal(new_goal)"
   ]
  },
  {
   "cell_type": "markdown",
   "metadata": {},
   "source": [
    "We will get the result of the last goal sent."
   ]
  },
  {
   "cell_type": "code",
   "execution_count": null,
   "metadata": {},
   "outputs": [],
   "source": [
    "client.wait_for_result()\n",
    "result = client.get_result()\n",
    "print('[Result]    State: %d' % client.get_state())\n",
    "print('[Result]   Status: %s' % client.get_goal_status_text())\n",
    "print('[Result] Sequence:', result.sequence)"
   ]
  },
  {
   "cell_type": "markdown",
   "metadata": {},
   "source": [
    "## Action aborted by server\n",
    "\n",
    "Now let's trigger a server-side abort: the order is higher than the server threshold, and the goal will be aborted."
   ]
  },
  {
   "cell_type": "code",
   "execution_count": null,
   "metadata": {},
   "outputs": [],
   "source": [
    "goal = FibonacciGoal(order=105)\n",
    "client.send_goal(goal)"
   ]
  },
  {
   "cell_type": "markdown",
   "metadata": {},
   "source": [
    "When asking for the result, we get a status message from the server."
   ]
  },
  {
   "cell_type": "code",
   "execution_count": null,
   "metadata": {},
   "outputs": [],
   "source": [
    "client.wait_for_result()\n",
    "result = client.get_result()\n",
    "print('[Result]    State: %d' % client.get_state())\n",
    "print('[Result]   Status: %s' % client.get_goal_status_text())\n",
    "print('[Result] Sequence:', result.sequence)"
   ]
  },
  {
   "cell_type": "markdown",
   "metadata": {},
   "source": [
    "This tutorial has covered `actions`, a powerful communications tool that is commonly used in ROS systems. For additional details, consult the [`actionlib` API documentation](http://wiki.ros.org/actionlib).\n",
    "\n",
    "For going back to the main page, please close the other tabs and click on the following link:\n",
    "[Go back to the main page](../../README.ipynb)"
   ]
  }
 ],
 "metadata": {
  "kernelspec": {
   "display_name": "Python 2",
   "language": "python",
   "name": "python2"
  },
  "language_info": {
   "codemirror_mode": {
    "name": "ipython",
    "version": 2
   },
   "file_extension": ".py",
   "mimetype": "text/x-python",
   "name": "python",
   "nbconvert_exporter": "python",
   "pygments_lexer": "ipython2",
   "version": "2.7.15rc1"
  }
 },
 "nbformat": 4,
 "nbformat_minor": 2
}
