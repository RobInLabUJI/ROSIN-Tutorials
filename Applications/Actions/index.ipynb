{
 "cells": [
  {
   "cell_type": "markdown",
   "metadata": {},
   "source": [
    "![ROS Industrial Homepage](../../img/logo.jpg)\n",
    "# Interactive Tutorials for ROS-Industrial\n",
    "# Actionlib: Server and Client in Python\n",
    "This tutorial covers how to write an actionlib server and client node in python (source: [ROS wiki](http://wiki.ros.org/actionlib_tutorials/Tutorials/Writing%20a%20Simple%20Action%20Server%20using%20the%20Execute%20Callback%20%28Python%29))."
   ]
  },
  {
   "cell_type": "markdown",
   "metadata": {},
   "source": [
    "For this tutorial, we have prepared a configuration of the workspace of JupyterLab with several notebooks. Please follow these two steps:\n",
    "1. Execute the following cell with `Shift+Enter`"
   ]
  },
  {
   "cell_type": "code",
   "execution_count": null,
   "metadata": {},
   "outputs": [],
   "source": [
    "./prepare_workspace.sh"
   ]
  },
  {
   "cell_type": "markdown",
   "metadata": {},
   "source": [
    "2. Press the `Reload` button in your browser for reloading JupyterLab with the new workspace configuration."
   ]
  }
 ],
 "metadata": {
  "kernelspec": {
   "display_name": "Bash",
   "language": "bash",
   "name": "bash"
  },
  "language_info": {
   "codemirror_mode": "shell",
   "file_extension": ".sh",
   "mimetype": "text/x-sh",
   "name": "bash"
  }
 },
 "nbformat": 4,
 "nbformat_minor": 2
}
