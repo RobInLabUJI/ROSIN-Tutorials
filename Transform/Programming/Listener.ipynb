{
 "cells": [
  {
   "cell_type": "markdown",
   "metadata": {},
   "source": [
    "This node is listening to the transformations and using a simple linear controller for driving turtle2 to follow turtle1."
   ]
  },
  {
   "cell_type": "code",
   "execution_count": null,
   "metadata": {},
   "outputs": [],
   "source": [
    "import rospy\n",
    "\n",
    "import math\n",
    "import tf2_ros\n",
    "from geometry_msgs.msg import Twist\n",
    "from turtlesim.srv import Spawn"
   ]
  },
  {
   "cell_type": "code",
   "execution_count": null,
   "metadata": {},
   "outputs": [],
   "source": [
    "rospy.init_node('tf2_turtle_listener')"
   ]
  },
  {
   "cell_type": "markdown",
   "metadata": {},
   "source": [
    "We create the necessary data structures."
   ]
  },
  {
   "cell_type": "code",
   "execution_count": null,
   "metadata": {},
   "outputs": [],
   "source": [
    "tfBuffer = tf2_ros.Buffer()\n",
    "listener = tf2_ros.TransformListener(tfBuffer)"
   ]
  },
  {
   "cell_type": "markdown",
   "metadata": {},
   "source": [
    "We need to spawn the second turtle in the simulator."
   ]
  },
  {
   "cell_type": "code",
   "execution_count": null,
   "metadata": {},
   "outputs": [],
   "source": [
    "turtle_name = 'turtle2'\n",
    "rospy.wait_for_service('spawn')\n",
    "spawner = rospy.ServiceProxy('spawn', Spawn)\n",
    "spawner(4, 2, 0, turtle_name)"
   ]
  },
  {
   "cell_type": "markdown",
   "metadata": {},
   "source": [
    "We create a topic publisher for sending velocity commands to the second turtle."
   ]
  },
  {
   "cell_type": "code",
   "execution_count": null,
   "metadata": {},
   "outputs": [],
   "source": [
    "turtle_vel = rospy.Publisher('%s/cmd_vel' % turtle_name, \\\n",
    "                             Twist, queue_size=1)\n",
    "rate = rospy.Rate(10.0)"
   ]
  },
  {
   "cell_type": "markdown",
   "metadata": {},
   "source": [
    "In this loop, we read the transformation between turtle2 and turtle1, compute the linear and angular velocities, and send them to the corresponding topic."
   ]
  },
  {
   "cell_type": "code",
   "execution_count": null,
   "metadata": {},
   "outputs": [],
   "source": [
    "while not rospy.is_shutdown():\n",
    "    try:\n",
    "        trans = tfBuffer.lookup_transform(turtle_name, \\\n",
    "                                          'turtle1', rospy.Time())\n",
    "        tr = trans.transform.translation\n",
    "    except (tf2_ros.LookupException, tf2_ros.ConnectivityException, \\\n",
    "            tf2_ros.ExtrapolationException):\n",
    "        rate.sleep()\n",
    "        continue\n",
    "\n",
    "    msg = Twist()\n",
    "    msg.angular.z = 4 * math.atan2(tr.y, tr.x)\n",
    "    msg.linear.x = 0.5 * math.sqrt(tr.x ** 2 + tr.y ** 2)\n",
    "\n",
    "    turtle_vel.publish(msg)\n",
    "\n",
    "    rate.sleep()"
   ]
  },
  {
   "cell_type": "markdown",
   "metadata": {},
   "source": [
    "You may teleoperate turtle1 for turtle2 to follow, by using [the notebook on the second tab of the upper-right window](Move_Turtle.ipynb)). "
   ]
  }
 ],
 "metadata": {
  "kernelspec": {
   "display_name": "Python 2",
   "language": "python",
   "name": "python2"
  },
  "language_info": {
   "codemirror_mode": {
    "name": "ipython",
    "version": 2
   },
   "file_extension": ".py",
   "mimetype": "text/x-python",
   "name": "python",
   "nbconvert_exporter": "python",
   "pygments_lexer": "ipython2",
   "version": "2.7.15rc1"
  }
 },
 "nbformat": 4,
 "nbformat_minor": 2
}
