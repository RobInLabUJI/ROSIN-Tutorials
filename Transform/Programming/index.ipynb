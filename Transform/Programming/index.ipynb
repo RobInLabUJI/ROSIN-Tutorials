{
 "cells": [
  {
   "cell_type": "markdown",
   "metadata": {},
   "source": [
    "![ROS Industrial Homepage](../../img/logo.jpg)\n",
    "# Interactive Tutorials for ROS-Industrial\n",
    "# Transform Library: Writing a Broadcaster and Listener\n",
    "This tutorial teaches you how to broadcast the state of a robot to tf2 and how to use tf2 to get access to frame transformations (source: [ROS wiki](http://wiki.ros.org/tf2/Tutorials/Writing%20a%20tf2%20broadcaster%20%28Python%29))."
   ]
  },
  {
   "cell_type": "markdown",
   "metadata": {},
   "source": [
    "For this tutorial, we have prepared a configuration of the workspace of JupyterLab with several notebooks. Please follow these two steps:\n",
    "1. Execute the following cell with `Shift+Enter`"
   ]
  },
  {
   "cell_type": "code",
   "execution_count": null,
   "metadata": {},
   "outputs": [],
   "source": [
    "./prepare_workspace.sh"
   ]
  },
  {
   "cell_type": "markdown",
   "metadata": {},
   "source": [
    "2. Press the `Reload` button in your browser for reloading JupyterLab with the new workspace configuration."
   ]
  }
 ],
 "metadata": {
  "kernelspec": {
   "display_name": "Bash",
   "language": "bash",
   "name": "bash"
  },
  "language_info": {
   "codemirror_mode": "shell",
   "file_extension": ".sh",
   "mimetype": "text/x-sh",
   "name": "bash"
  }
 },
 "nbformat": 4,
 "nbformat_minor": 2
}
