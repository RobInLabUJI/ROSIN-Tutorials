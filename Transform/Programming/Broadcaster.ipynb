{
 "cells": [
  {
   "cell_type": "markdown",
   "metadata": {},
   "source": [
    "This node is subscribing to the pose topic of each turtle, and broadcasting the transformation of each turtle wrt the world frame.\n",
    "\n",
    "Make sure that [roscore](roscore.ipynb) and [turtlesim](turtlesim.ipynb) have been launched."
   ]
  },
  {
   "cell_type": "code",
   "execution_count": null,
   "metadata": {},
   "outputs": [],
   "source": [
    "import rospy\n",
    "\n",
    "import tf_conversions\n",
    "\n",
    "import tf2_ros\n",
    "from geometry_msgs.msg import TransformStamped\n",
    "from turtlesim.msg import Pose"
   ]
  },
  {
   "cell_type": "markdown",
   "metadata": {},
   "source": [
    "The following function is the callback that executes when a pose topic is received. The pose of the turtle is copied into a transform message, which is broadcasted."
   ]
  },
  {
   "cell_type": "code",
   "execution_count": null,
   "metadata": {},
   "outputs": [],
   "source": [
    "def handle_turtle_pose(msg, turtle_name):\n",
    "    br = tf2_ros.TransformBroadcaster()\n",
    "    t = TransformStamped()\n",
    "\n",
    "    t.header.stamp = rospy.Time.now()\n",
    "    t.header.frame_id = \"world\"\n",
    "    t.child_frame_id = turtle_name\n",
    "    t.transform.translation.x = msg.x\n",
    "    t.transform.translation.y = msg.y\n",
    "    t.transform.translation.z = 0.0\n",
    "    q = tf_conversions.transformations.quaternion_from_euler(0, 0, msg.theta)\n",
    "    t.transform.rotation.x = q[0]\n",
    "    t.transform.rotation.y = q[1]\n",
    "    t.transform.rotation.z = q[2]\n",
    "    t.transform.rotation.w = q[3]\n",
    "\n",
    "    br.sendTransform(t)\n"
   ]
  },
  {
   "cell_type": "markdown",
   "metadata": {},
   "source": [
    "In the rest of the code, we initialize the node, create both subscribers, and finally wait for messages."
   ]
  },
  {
   "cell_type": "code",
   "execution_count": null,
   "metadata": {},
   "outputs": [],
   "source": [
    "rospy.init_node('tf2_turtle_broadcaster')\n",
    "\n",
    "turtle_name = 'turtle1'\n",
    "rospy.Subscriber('/%s/pose' % turtle_name, Pose,\n",
    "                 handle_turtle_pose,\n",
    "                 turtle_name)\n",
    "\n",
    "turtle_name = 'turtle2'\n",
    "rospy.Subscriber('/%s/pose' % turtle_name, Pose,\n",
    "                 handle_turtle_pose,\n",
    "                 turtle_name)\n",
    "rospy.spin()"
   ]
  },
  {
   "cell_type": "markdown",
   "metadata": {},
   "source": [
    "If not done yet, please run now the [Listener notebook in the below tab](Listener.ipynb)."
   ]
  }
 ],
 "metadata": {
  "kernelspec": {
   "display_name": "Python 2",
   "language": "python",
   "name": "python2"
  },
  "language_info": {
   "codemirror_mode": {
    "name": "ipython",
    "version": 2
   },
   "file_extension": ".py",
   "mimetype": "text/x-python",
   "name": "python",
   "nbconvert_exporter": "python",
   "pygments_lexer": "ipython2",
   "version": "2.7.15rc1"
  }
 },
 "nbformat": 4,
 "nbformat_minor": 2
}
