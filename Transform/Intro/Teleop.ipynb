{
 "cells": [
  {
   "cell_type": "markdown",
   "metadata": {},
   "source": [
    "## Teleoperating the turtle"
   ]
  },
  {
   "cell_type": "markdown",
   "metadata": {},
   "source": [
    "Prior to running this code, please make sure that turtlesim is running in the [notebook at the right tab of your browser](turtlesim.ipynb)."
   ]
  },
  {
   "cell_type": "markdown",
   "metadata": {},
   "source": [
    "Let's first change the pen color of each turtle (green for turtle1, red for turtle2)."
   ]
  },
  {
   "cell_type": "code",
   "execution_count": null,
   "metadata": {},
   "outputs": [],
   "source": [
    "rosservice call /turtle1/set_pen 0 255 0 3 0\n",
    "rosservice call /turtle2/set_pen 255 0 0 3 0"
   ]
  },
  {
   "cell_type": "markdown",
   "metadata": {},
   "source": [
    "We are driving turtle1: let's do a relative jump of 1.25 units in the facing direction."
   ]
  },
  {
   "cell_type": "code",
   "execution_count": null,
   "metadata": {},
   "outputs": [],
   "source": [
    "rosservice call /turtle1/teleport_relative 1.25 0"
   ]
  },
  {
   "cell_type": "markdown",
   "metadata": {},
   "source": [
    "Now we will move the turtle in a trajectory of an hexagon, with six movements: translation of 2.5 units, and rotation of 60 degrees (1.047 radians)."
   ]
  },
  {
   "cell_type": "code",
   "execution_count": null,
   "metadata": {},
   "outputs": [],
   "source": [
    "for ((i=1;i<=6;i++));\n",
    "do\n",
    "    rosservice call /turtle1/teleport_relative 2.5 1.047\n",
    "    sleep 1s\n",
    "done"
   ]
  },
  {
   "cell_type": "markdown",
   "metadata": {},
   "source": [
    "Finally let's move the turtle in a similar trajectory, but in the opposite direction: rotation is now -60 degrees (-1.047 radians), and note the `--` argument for using negative numbers."
   ]
  },
  {
   "cell_type": "code",
   "execution_count": null,
   "metadata": {},
   "outputs": [],
   "source": [
    "for ((i=1;i<=6;i++));\n",
    "do\n",
    "    rosservice call -- /turtle1/teleport_relative 2.5 -1.047\n",
    "    sleep 1s\n",
    "done"
   ]
  },
  {
   "cell_type": "code",
   "execution_count": null,
   "metadata": {},
   "outputs": [],
   "source": []
  }
 ],
 "metadata": {
  "kernelspec": {
   "display_name": "Bash",
   "language": "bash",
   "name": "bash"
  },
  "language_info": {
   "codemirror_mode": "shell",
   "file_extension": ".sh",
   "mimetype": "text/x-sh",
   "name": "bash"
  }
 },
 "nbformat": 4,
 "nbformat_minor": 2
}
