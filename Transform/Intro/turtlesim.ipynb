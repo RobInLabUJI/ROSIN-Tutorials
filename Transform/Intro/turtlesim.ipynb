{
 "cells": [
  {
   "cell_type": "markdown",
   "metadata": {},
   "source": [
    "### turtle_tf2_demo in turtlesim\n",
    "\n",
    "This command launches the simulator and the tf2 nodes:"
   ]
  },
  {
   "cell_type": "code",
   "execution_count": null,
   "metadata": {},
   "outputs": [],
   "source": [
    "xvfb-run --server-args='-screen 0 1024x768x24 -ac' \\\n",
    "roslaunch turtle_tf2 turtle_tf2_demo.launch"
   ]
  },
  {
   "cell_type": "markdown",
   "metadata": {},
   "source": [
    "You need to run [this notebook](turtleview.ipynb) for viewing the simulator output."
   ]
  }
 ],
 "metadata": {
  "kernelspec": {
   "display_name": "Bash",
   "language": "bash",
   "name": "bash"
  },
  "language_info": {
   "codemirror_mode": "shell",
   "file_extension": ".sh",
   "mimetype": "text/x-sh",
   "name": "bash"
  }
 },
 "nbformat": 4,
 "nbformat_minor": 2
}
