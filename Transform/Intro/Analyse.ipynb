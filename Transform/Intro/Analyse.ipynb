{
 "cells": [
  {
   "cell_type": "markdown",
   "metadata": {},
   "source": [
    "# What is Happening\n",
    "This demo is using the tf2 library to create three coordinate frames: a world frame, a turtle1 frame, and a turtle2 frame. This tutorial uses a **tf2 broadcaster** to publish the turtle coordinate frames and a **tf2 listener** to compute the difference in the turtle frames and move one turtle to follow the other.\n",
    "\n",
    "## tf2 Tools\n",
    "\n",
    "Now let's look at how tf2 is being used to create this demo. We can use tf2 tools to look at what tf2 is doing behind the scenes."
   ]
  },
  {
   "cell_type": "markdown",
   "metadata": {},
   "source": [
    "### Using view_frames\n",
    "`view_frames` creates a diagram of the frames being broadcast by tf2 over ROS."
   ]
  },
  {
   "cell_type": "code",
   "execution_count": null,
   "metadata": {},
   "outputs": [],
   "source": [
    "rosrun tf2_tools view_frames.py"
   ]
  },
  {
   "cell_type": "markdown",
   "metadata": {},
   "source": [
    "Here a tf2 listener is listening to the frames that are being broadcast over ROS and drawing a tree of how the frames are connected. To view the tree: [click here to open the PDF](frames.pdf)"
   ]
  },
  {
   "cell_type": "markdown",
   "metadata": {},
   "source": [
    "### Using tf_echo\n",
    "`tf_echo` reports the transform between any two frames broadcast over ROS.\n",
    "\n",
    "Usage:\n",
    "\n",
    "`rosrun tf tf_echo [reference_frame] [target_frame]`\n",
    "\n",
    "Let's look at the transform of the turtle2 frame with respect to turtle1 frame which is equivalent to\n",
    "$$\\mathbf{T}_{turtle1\\_turtle2} =\\mathbf{T}_{turtle1\\_world} *\\mathbf{T}_{world\\_turtle2}$$\n",
    "\n",
    "You will see the transform displayed as the `tf_echo` listener receives the frames broadcast over ROS (press the `Interrupt` button for stopping)."
   ]
  },
  {
   "cell_type": "code",
   "execution_count": null,
   "metadata": {},
   "outputs": [],
   "source": [
    "rosrun tf tf_echo turtle1 turtle2"
   ]
  },
  {
   "cell_type": "markdown",
   "metadata": {},
   "source": [
    "As you drive your turtle around you will see the transform change as the two turtles move relative to each other.\n",
    "\n",
    "Now that we have examined the turtle_tf2_demo, let's look at how to write the broadcaster and listener for this demo. Please close the other tabs and go to [the next tutorial on tf2](../Programming/index.ipynb)."
   ]
  }
 ],
 "metadata": {
  "kernelspec": {
   "display_name": "Bash",
   "language": "bash",
   "name": "bash"
  },
  "language_info": {
   "codemirror_mode": "shell",
   "file_extension": ".sh",
   "mimetype": "text/x-sh",
   "name": "bash"
  }
 },
 "nbformat": 4,
 "nbformat_minor": 2
}
