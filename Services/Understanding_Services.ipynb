{
 "cells": [
  {
   "cell_type": "markdown",
   "metadata": {},
   "source": [
    "## Understanding ROS Services\n",
    "This tutorial introduces ROS services and the `rosservice` commandline tool.\n",
    "\n",
    "Source: [ROS Wiki](http://wiki.ros.org/ROS/Tutorials/UnderstandingServicesParams) "
   ]
  },
  {
   "cell_type": "markdown",
   "metadata": {},
   "source": [
    "Services are another way that nodes can communicate with each other. Services allow nodes to send a **request** and receive a **response**."
   ]
  },
  {
   "cell_type": "markdown",
   "metadata": {},
   "source": [
    "### Using `rosservice`\n",
    "`rosservice` can easily attach to ROS's client/service framework with services. `rosservice` has many commands that can be used on topics, as shown below:"
   ]
  },
  {
   "cell_type": "code",
   "execution_count": null,
   "metadata": {},
   "outputs": [],
   "source": [
    "rosservice -h"
   ]
  },
  {
   "cell_type": "markdown",
   "metadata": {},
   "source": [
    "The `list` command shows us that the `turtlesim` node provides nine services: `reset`, `clear`, `spawn`, `kill`, `turtle1/set_pen`, `/turtle1/teleport_absolute`, `/turtle1/teleport_relative`, `turtlesim/get_loggers`, and `turtlesim/set_logger_level`. There are also two services related to the separate `rosout` node: `/rosout/get_loggers` and `/rosout/set_logger_level`."
   ]
  },
  {
   "cell_type": "code",
   "execution_count": null,
   "metadata": {},
   "outputs": [],
   "source": [
    "rosservice list"
   ]
  },
  {
   "cell_type": "markdown",
   "metadata": {},
   "source": [
    "Let's look more closely at the `clear` service using `rosservice type`:"
   ]
  },
  {
   "cell_type": "code",
   "execution_count": null,
   "metadata": {},
   "outputs": [],
   "source": [
    "rosservice type clear"
   ]
  },
  {
   "cell_type": "markdown",
   "metadata": {},
   "source": [
    "This service is empty, this means when the service call is made it takes no arguments (i.e. it sends no data when making a **request** and receives no data when receiving a **response**). Let's call this service using `rosservice call`. \n",
    "\n",
    "Here we'll call with no arguments because the service is of type empty:"
   ]
  },
  {
   "cell_type": "code",
   "execution_count": null,
   "metadata": {},
   "outputs": [],
   "source": [
    "rosservice call clear"
   ]
  },
  {
   "cell_type": "markdown",
   "metadata": {},
   "source": [
    "This does what we expect, it clears the background of the `turtlesim_node`.\n",
    "\n",
    "Let's look at the case where the service has arguments by looking at the information for the service `spawn`:"
   ]
  },
  {
   "cell_type": "code",
   "execution_count": null,
   "metadata": {},
   "outputs": [],
   "source": [
    "rosservice type spawn | rossrv show"
   ]
  },
  {
   "cell_type": "markdown",
   "metadata": {},
   "source": [
    "This service lets us spawn a new turtle at a given location and orientation. The name field is optional, so let's not give our new turtle a name and let turtlesim create one for us."
   ]
  },
  {
   "cell_type": "code",
   "execution_count": null,
   "metadata": {},
   "outputs": [],
   "source": [
    "rosservice call spawn 2 2 0.2 \"\""
   ]
  },
  {
   "cell_type": "markdown",
   "metadata": {},
   "source": [
    "Now let's proceed with the [ROS parameters](../Parameters/Using_rosparam.ipynb) ."
   ]
  }
 ],
 "metadata": {
  "kernelspec": {
   "display_name": "Bash",
   "language": "bash",
   "name": "bash"
  },
  "language_info": {
   "codemirror_mode": "shell",
   "file_extension": ".sh",
   "mimetype": "text/x-sh",
   "name": "bash"
  }
 },
 "nbformat": 4,
 "nbformat_minor": 2
}
