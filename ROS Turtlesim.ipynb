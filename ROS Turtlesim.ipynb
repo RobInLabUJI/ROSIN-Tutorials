{
 "cells": [
  {
   "cell_type": "markdown",
   "metadata": {},
   "source": [
    "## Understanding ROS Nodes\n",
    "\n",
    "This tutorial introduces ROS graph concepts and discusses the use of `roscore`, `rosnode`, and `rosrun` commandline tools.\n",
    "\n",
    "Source: [ROS Wiki](http://wiki.ros.org/ROS/Tutorials/UnderstandingNodes)"
   ]
  },
  {
   "cell_type": "markdown",
   "metadata": {},
   "source": [
    "### Quick Overview of Graph Concepts\n",
    "* Nodes: A node is an executable that uses ROS to communicate with other nodes.\n",
    "* Messages: ROS data type used when subscribing or publishing to a topic.\n",
    "* Topics: Nodes can publish messages to a topic as well as subscribe to a topic to receive messages.\n",
    "* Master: Name service for ROS (i.e. helps nodes find each other)\n",
    "* rosout: ROS equivalent of stdout/stderr\n",
    "* roscore: Master + rosout + parameter server (parameter server will be introduced later)"
   ]
  },
  {
   "cell_type": "markdown",
   "metadata": {},
   "source": [
    "### roscore\n",
    "\n",
    "`roscore` is the first thing you should run when using ROS."
   ]
  },
  {
   "cell_type": "code",
   "execution_count": null,
   "metadata": {},
   "outputs": [],
   "source": [
    "%%bash --bg\n",
    "roscore"
   ]
  },
  {
   "cell_type": "markdown",
   "metadata": {},
   "source": [
    "### Using `rosrun`\n",
    "\n",
    "`rosrun` allows you to use the package name to directly run a node within a package (without having to know the package path)."
   ]
  },
  {
   "cell_type": "code",
   "execution_count": null,
   "metadata": {},
   "outputs": [],
   "source": [
    "%%bash --bg\n",
    "xvfb-run --server-args='-screen 0 1024x768x24 -ac' rosrun turtlesim turtlesim_node"
   ]
  },
  {
   "cell_type": "markdown",
   "metadata": {},
   "source": [
    "NOTE: The turtle may look different in your turtlesim window. Don't worry about it - there are [many types of turtle](http://wiki.ros.org/Distributions#Current_Distribution_Releases) and yours is a surprise!"
   ]
  },
  {
   "cell_type": "code",
   "execution_count": null,
   "metadata": {},
   "outputs": [],
   "source": [
    "%%bash\n",
    "rosnode list"
   ]
  },
  {
   "cell_type": "code",
   "execution_count": null,
   "metadata": {},
   "outputs": [],
   "source": [
    "%matplotlib inline\n",
    "import nbturtle\n",
    "nbturtle.plot()"
   ]
  },
  {
   "cell_type": "markdown",
   "metadata": {},
   "source": [
    "### Review\n",
    "What was covered:\n",
    "\n",
    "* roscore = ros+core : master (provides name service for ROS) + rosout (stdout/stderr) + parameter server (parameter server will be introduced later)\n",
    "* rosnode = ros+node : ROS tool to get information about a node.\n",
    "* rosrun = ros+run : runs a node from a given package.\n",
    "\n",
    "Now that you understand how ROS nodes work, let's look at how [ROS topics](ROS%20Topics.ipynb) work."
   ]
  },
  {
   "cell_type": "code",
   "execution_count": null,
   "metadata": {},
   "outputs": [],
   "source": []
  }
 ],
 "metadata": {
  "kernelspec": {
   "display_name": "Python 2",
   "language": "python",
   "name": "python2"
  },
  "language_info": {
   "codemirror_mode": {
    "name": "ipython",
    "version": 2
   },
   "file_extension": ".py",
   "mimetype": "text/x-python",
   "name": "python",
   "nbconvert_exporter": "python",
   "pygments_lexer": "ipython2",
   "version": "2.7.12"
  }
 },
 "nbformat": 4,
 "nbformat_minor": 1
}
