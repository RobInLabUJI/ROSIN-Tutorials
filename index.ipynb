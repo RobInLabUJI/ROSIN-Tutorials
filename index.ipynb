{
 "cells": [
  {
   "cell_type": "markdown",
   "metadata": {},
   "source": [
    "![ROS Industrial Homepage](logo.jpg)\n",
    "# Interactive Tutorials for ROS-Industrial"
   ]
  },
  {
   "cell_type": "markdown",
   "metadata": {},
   "source": [
    "## Concepts and Fundamentals\n",
    "\n",
    "### Nodes\n",
    "* [Understanding Nodes](http://localhost:8888/lab/workspaces/nodes)\n",
    "\n",
    "### Topics\n",
    "* [Understanding Topics](Topics/Understanding_Topics.ipynb)\n",
    "* [Publisher and Subscriber in Python](Topics/Writing_the_Publisher_Node_in_Python.ipynb)"
   ]
  },
  {
   "cell_type": "markdown",
   "metadata": {},
   "source": [
    "## Basic Applications\n",
    "\n",
    "### Services\n",
    "* [Understanding Services](Services/Understanding_Services.ipynb)\n",
    "* [Server and Client in Python](Services/Writing_a_Service_Node_in_Python.ipynb)\n",
    "\n",
    "### Parameters\n",
    "* [Using rosparam](Parameters/Using_rosparam.ipynb)\n",
    "\n",
    "### Actions\n",
    "* [Simple Action Server and Client in Python](Actions/Simple_Action_Server.ipynb)"
   ]
  },
  {
   "cell_type": "markdown",
   "metadata": {},
   "source": [
    "## Transform Library\n",
    "* Introduction to tf\n",
    "* Broadcaster and Listener in Python"
   ]
  }
 ],
 "metadata": {
  "kernelspec": {
   "display_name": "Bash",
   "language": "bash",
   "name": "bash"
  },
  "language_info": {
   "codemirror_mode": "shell",
   "file_extension": ".sh",
   "mimetype": "text/x-sh",
   "name": "bash"
  }
 },
 "nbformat": 4,
 "nbformat_minor": 2
}
