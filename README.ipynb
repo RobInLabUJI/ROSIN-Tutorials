{
 "cells": [
  {
   "cell_type": "markdown",
   "metadata": {},
   "source": [
    "[![ROS Industrial Homepage](img/logo.jpg)](https://rosindustrial.org/)\n",
    "# Interactive Tutorials for ROS-Industrial\n",
    "\n",
    "## Concepts and Fundamentals\n",
    "* [Nodes, Topics, Services, and Parameters](Concepts/Fundamentals/index.ipynb)\n",
    "* [Publisher and Subscriber in Python](Concepts/Topics/index.ipynb)\n",
    "\n",
    "## Basic Applications\n",
    "* [Server and Client in Python](Applications/Services/index.ipynb)\n",
    "* [Simple Action Server and Client in Python](Applications/Actions/index.ipynb)\n",
    "\n",
    "## Transform Library\n",
    "* [Introduction to tf](Transform/Intro/index.ipynb)\n",
    "* [Broadcaster and Listener in Python](Transform/Programming/index.ipynb)\n",
    "\n",
    "<hr>\n",
    "\n",
    "### Usage\n",
    "\n",
    "1. Install [docker](https://www.docker.com/)\n",
    "\n",
    "2. Clone this repository in your computer\n",
    "\n",
    "3. Build the docker image:\n",
    "```./docker_build.sh```\n",
    "\n",
    "4. Run the docker image:\n",
    "```./docker_run.sh```\n",
    "\n",
    "5. Open this URL in your browser:\n",
    "[http://localhost:8888/lab/tree/README.ipynb](http://localhost:8888/lab/tree/README.ipynb) (Windows users: you may need to replace `localhost` with `192.168.99.100` or any IP address assigned to your docker machine)\n",
    "\n",
    "You can also try these tutorials in Binder:\n",
    "\n",
    "[![Binder](https://mybinder.org/badge.svg)](https://mybinder.org/v2/gh/RobInLabUJI/ROSIN-Tutorials/master?urlpath=lab/tree/README.ipynb)\n",
    "\n",
    "<hr>\n",
    "\n",
    "### Licensing\n",
    "\n",
    "This work, \"Interactive Tutorials for ROS-Industrial\", is a derivative of \"[ROS Tutorials](http://wiki.ros.org/ROS/Tutorials)\" by the [Open Source Robotics Foundation](http://www.osrfoundation.org/), used under [CC BY](https://creativecommons.org/licenses/by/3.0/), and \"[ROS-Industrial Training Material](http://ros-industrial.github.io/industrial_training/index.html)\" by the [ROS-Industrial Consortium](http://rosindustrial.org/ric), used under an [Apache License 2.0](https://www.apache.org/licenses/LICENSE-2.0).\n",
    "\n",
    "<a href=\"http://robinlab.uji.es\"><img align=\"left\" src=\"img/robinlab_logo.png\"></a>\n",
    "\"Interactive Tutorials for ROS-Industrial\" is licensed under an [Apache License 2.0](https://www.apache.org/licenses/LICENSE-2.0) by the [Robotic Intelligence Lab](http://robinlab.uji.es) of [Jaume-I University (Castelló, Spain)](http://www.uji.es).\n",
    "\n",
    "<hr>\n",
    "\n",
    "<a href=\"http://rosin-project.eu\"><img style=\"margin: 0px 20px; float: left\" src=\"img/Logo_ROSIN.png\"></a>\n",
    "<img style=\"margin: 0px 20px; float: left\" src=\"img/EU-Flag.png\">\n",
    "This work is funded by [ROSIN Education Projects](http://rosin-project.eu/eps),\n",
    "which has received funding from the European Union's Horizon 2020 research and innovation programme under grant agreement No 732287. The opinions expressed on this website reflect only the author's view, and in no way the European Commission's opinions.\n",
    "The European Commission is not responsible for any use that may be made of the information it contains."
   ]
  }
 ],

 "metadata": {
  "kernelspec": {
   "display_name": "Bash",
   "language": "bash",
   "name": "bash"
  },
  "language_info": {
   "codemirror_mode": "shell",
   "file_extension": ".sh",
   "mimetype": "text/x-sh",
   "name": "bash"
  }
 },
 "nbformat": 4,
 "nbformat_minor": 2
}
