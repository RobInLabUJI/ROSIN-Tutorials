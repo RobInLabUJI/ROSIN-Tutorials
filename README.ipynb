{
 "cells": [
  {
   "cell_type": "markdown",
   "metadata": {},
   "source": [
    "![ROS Industrial Homepage](img/logo.jpg)\n",
    "# Interactive Tutorials for ROS-Industrial\n",
    "\n",
    "## Concepts and Fundamentals\n",
    "* [Nodes, Topics, Services, and Parameters](Concepts/Fundamentals/index.ipynb)\n",
    "* [Publisher and Subscriber in Python](Concepts/Topics/index.ipynb)\n",
    "\n",
    "## Basic Applications\n",
    "* [Server and Client in Python](Applications/Services/index.ipynb)\n",
    "* [Simple Action Server and Client in Python](Applications/Actions/index.ipynb)\n",
    "\n",
    "## Transform Library\n",
    "* [Introduction to tf](Transform/Intro/index.ipynb)\n",
    "* [Broadcaster and Listener in Python](Transform/Programming/index.ipynb)\n"
   ]
  },
  {
   "cell_type": "markdown",
   "metadata": {},
   "source": [
    "<hr>\n",
    "\n",
    "This work, \"Interactive Tutorials for ROS-Industrial\", is a derivative of \"[ROS Tutorials](http://wiki.ros.org/ROS/Tutorials)\" by the [Open Source Robotics Foundation](http://www.osrfoundation.org/), used under [CC BY](https://creativecommons.org/licenses/by/3.0/), and \"[ROS-Industrial Training Material](http://ros-industrial.github.io/industrial_training/index.html)\" by the [ROS-Industrial Consortium](http://rosindustrial.org/ric), used under an [Apache License 2.0](https://www.apache.org/licenses/LICENSE-2.0)."
   ]
  },
  {
   "cell_type": "markdown",
   "metadata": {},
   "source": [
    "\"Interactive Tutorials for ROS-Industrial\" is licensed under an [Apache License 2.0](https://www.apache.org/licenses/LICENSE-2.0) by the [Robotic Intelligence Lab](http://robinlab.uji.es) of [Jaume-I University (Castelló, Spain)](http://www.uji.es)."
   ]
  }
 ],
 "metadata": {
  "kernelspec": {
   "display_name": "Bash",
   "language": "bash",
   "name": "bash"
  },
  "language_info": {
   "codemirror_mode": "shell",
   "file_extension": ".sh",
   "mimetype": "text/x-sh",
   "name": "bash"
  }
 },
 "nbformat": 4,
 "nbformat_minor": 2
}
