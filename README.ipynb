{
 "cells": [
  {
   "cell_type": "markdown",
   "metadata": {},
   "source": [
    "![ROS Industrial Homepage](img/logo.jpg)\n",
    "# Interactive Tutorials for ROS-Industrial\n",
    "[![Binder](https://mybinder.org/badge.svg)](https://mybinder.org/v2/gh/RobInLabUJI/ROSIN-Tutorials/master?urlpath=lab/tree/README.ipynb)\n",
    "\n",
    "## Concepts and Fundamentals\n",
    "* [Nodes, Topics, Services, and Parameters](Concepts/Fundamentals/index.ipynb)\n",
    "* [Publisher and Subscriber in Python](Concepts/Topics/index.ipynb)\n",
    "\n",
    "## Basic Applications\n",
    "* [Server and Client in Python](Applications/Services/index.ipynb)\n",
    "* [Simple Action Server and Client in Python](Applications/Actions/index.ipynb)\n",
    "\n",
    "## Transform Library\n",
    "* [Introduction to tf](Transform/Intro/index.ipynb)\n",
    "* [Broadcaster and Listener in Python](Transform/Programming/index.ipynb)"
   ]
  },
  {
   "cell_type": "code",
   "execution_count": null,
   "metadata": {},
   "outputs": [],
   "source": []
  }
 ],
 "metadata": {
  "kernelspec": {
   "display_name": "Bash",
   "language": "bash",
   "name": "bash"
  },
  "language_info": {
   "codemirror_mode": "shell",
   "file_extension": ".sh",
   "mimetype": "text/x-sh",
   "name": "bash"
  }
 },
 "nbformat": 4,
 "nbformat_minor": 2
}
